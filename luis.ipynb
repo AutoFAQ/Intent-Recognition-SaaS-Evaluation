{
 "cells": [
  {
   "cell_type": "code",
   "execution_count": 1,
   "source": [
    "import converters\n",
    "import analyzers\n",
    "from sklearn.metrics import classification_report, accuracy_score, f1_score"
   ],
   "outputs": [],
   "metadata": {}
  },
  {
   "cell_type": "code",
   "execution_count": 2,
   "source": [
    "small_test_path = 'data/hwu_small_test.csv'\n",
    "small_train_path = 'data/hwu_small_train.csv'\n",
    "large_test_path = 'data/hwu_large_test.csv'\n",
    "large_train_path = 'data/hwu_large_train.csv'"
   ],
   "outputs": [],
   "metadata": {}
  },
  {
   "cell_type": "code",
   "execution_count": 2,
   "source": [
    "lc = converters.LuisConverter()\n",
    "lc.import_corpus(small_train_path)\n",
    "lc.export(\"HwuSmallTraining_Luis.json\")"
   ],
   "outputs": [],
   "metadata": {}
  },
  {
   "cell_type": "code",
   "execution_count": 3,
   "source": [
    "lc = converters.LuisConverter()\n",
    "lc.import_corpus(large_train_path)\n",
    "lc.export(\"HwuLargeTraining_Luis.json\")"
   ],
   "outputs": [],
   "metadata": {}
  },
  {
   "cell_type": "markdown",
   "source": [
    "# Now go to LUIS web interface and import service from json and publish it. \n",
    "\n",
    "Small subset trained very fast 0-10 seconds.\n",
    "Large one was fast too - around 23 seconds.\n",
    "\n",
    "LUIS dashboard show accuracy of 96.1%."
   ],
   "metadata": {}
  },
  {
   "cell_type": "code",
   "execution_count": 11,
   "source": [
    "# Get it from LUIS web interface\n",
    "small_app_id = \"123\"\n",
    "small_subscription_key = \"123\"\n",
    "large_app_id = \"123\"\n",
    "large_subscription_key = \"123\""
   ],
   "outputs": [],
   "metadata": {}
  },
  {
   "cell_type": "code",
   "execution_count": 15,
   "source": [
    "la = analyzers.LuisAnalyser(small_app_id, small_subscription_key)\n",
    "docs, X, y = converters.parse_data(small_test_path)\n",
    "luis_results, _ = la.get_annotations(X)\n",
    "y_preds = [r['prediction']['topIntent'] for r in luis_results['results']]\n",
    "\n",
    "print(classification_report(y, y_preds))\n",
    "print(\"Accuracy: \", accuracy_score(y, y_preds)) \n",
    "print(\"F1-Score: \", f1_score(y, y_preds, average='macro')) "
   ],
   "outputs": [
    {
     "output_type": "stream",
     "name": "stdout",
     "text": [
      "                          precision    recall  f1-score   support\n",
      "\n",
      "                    None       0.00      0.00      0.00         0\n",
      "             alarm_query       0.81      0.89      0.85        19\n",
      "            alarm_remove       0.43      0.27      0.33        11\n",
      "               alarm_set       0.76      0.68      0.72        19\n",
      "       audio_volume_down       0.67      0.75      0.71         8\n",
      "       audio_volume_mute       0.33      0.67      0.44        15\n",
      "         audio_volume_up       0.90      0.69      0.78        13\n",
      "          calendar_query       0.24      0.42      0.30        19\n",
      "         calendar_remove       0.80      0.84      0.82        19\n",
      "            calendar_set       0.42      0.53      0.47        19\n",
      "          cooking_recipe       0.50      0.26      0.34        19\n",
      "        datetime_convert       0.37      0.88      0.52         8\n",
      "          datetime_query       0.73      0.58      0.65        19\n",
      "        email_addcontact       0.62      1.00      0.76         8\n",
      "             email_query       0.67      0.74      0.70        19\n",
      "      email_querycontact       0.52      0.58      0.55        19\n",
      "         email_sendemail       0.73      0.58      0.65        19\n",
      "          general_affirm       1.00      1.00      1.00        19\n",
      "     general_commandstop       0.90      0.95      0.92        19\n",
      "         general_confirm       0.95      1.00      0.97        19\n",
      "        general_dontcare       0.89      0.84      0.86        19\n",
      "         general_explain       0.83      0.53      0.65        19\n",
      "            general_joke       0.77      0.83      0.80        12\n",
      "          general_negate       0.72      0.95      0.82        19\n",
      "          general_praise       0.86      0.95      0.90        19\n",
      "          general_quirky       0.20      0.16      0.18        19\n",
      "          general_repeat       0.77      0.89      0.83        19\n",
      "            iot_cleaning       1.00      1.00      1.00        16\n",
      "              iot_coffee       0.95      0.95      0.95        19\n",
      "     iot_hue_lightchange       0.57      0.63      0.60        19\n",
      "        iot_hue_lightdim       0.82      0.75      0.78        12\n",
      "        iot_hue_lightoff       0.76      0.84      0.80        19\n",
      "         iot_hue_lighton       0.30      1.00      0.46         3\n",
      "         iot_hue_lightup       0.60      0.43      0.50        14\n",
      "            iot_wemo_off       0.45      0.56      0.50         9\n",
      "             iot_wemo_on       0.45      0.71      0.56         7\n",
      "       lists_createoradd       0.71      0.63      0.67        19\n",
      "             lists_query       0.53      0.53      0.53        19\n",
      "            lists_remove       0.76      0.84      0.80        19\n",
      "          music_likeness       0.52      0.61      0.56        18\n",
      "             music_query       0.47      0.47      0.47        19\n",
      "          music_settings       0.38      0.71      0.50         7\n",
      "              news_query       0.87      0.68      0.76        19\n",
      "          play_audiobook       0.85      0.58      0.69        19\n",
      "               play_game       0.58      0.58      0.58        19\n",
      "              play_music       0.50      0.42      0.46        19\n",
      "           play_podcasts       0.69      0.47      0.56        19\n",
      "              play_radio       0.83      0.53      0.65        19\n",
      "             qa_currency       1.00      0.68      0.81        19\n",
      "           qa_definition       0.50      0.37      0.42        19\n",
      "              qa_factoid       0.29      0.32      0.30        19\n",
      "                qa_maths       0.77      0.71      0.74        14\n",
      "                qa_stock       0.88      0.79      0.83        19\n",
      "   recommendation_events       0.75      0.47      0.58        19\n",
      "recommendation_locations       0.67      0.63      0.65        19\n",
      "   recommendation_movies       0.75      0.60      0.67        10\n",
      "             social_post       0.89      0.84      0.86        19\n",
      "            social_query       0.57      0.67      0.62        18\n",
      "          takeaway_order       0.58      0.79      0.67        19\n",
      "          takeaway_query       1.00      0.53      0.69        19\n",
      "         transport_query       0.64      0.74      0.68        19\n",
      "          transport_taxi       1.00      1.00      1.00        18\n",
      "        transport_ticket       0.87      0.68      0.76        19\n",
      "       transport_traffic       1.00      0.89      0.94        19\n",
      "           weather_query       0.77      0.53      0.62        19\n",
      "\n",
      "                accuracy                           0.67      1076\n",
      "               macro avg       0.68      0.67      0.66      1076\n",
      "            weighted avg       0.70      0.67      0.68      1076\n",
      "\n",
      "Accuracy:  0.6737918215613383\n",
      "F1-Score:  0.6578612526025599\n"
     ]
    },
    {
     "output_type": "stream",
     "name": "stderr",
     "text": [
      "/usr/local/var/pyenv/versions/3.8.1/lib/python3.8/site-packages/sklearn/metrics/_classification.py:1245: UndefinedMetricWarning: Recall and F-score are ill-defined and being set to 0.0 in labels with no true samples. Use `zero_division` parameter to control this behavior.\n",
      "  _warn_prf(average, modifier, msg_start, len(result))\n",
      "/usr/local/var/pyenv/versions/3.8.1/lib/python3.8/site-packages/sklearn/metrics/_classification.py:1245: UndefinedMetricWarning: Recall and F-score are ill-defined and being set to 0.0 in labels with no true samples. Use `zero_division` parameter to control this behavior.\n",
      "  _warn_prf(average, modifier, msg_start, len(result))\n",
      "/usr/local/var/pyenv/versions/3.8.1/lib/python3.8/site-packages/sklearn/metrics/_classification.py:1245: UndefinedMetricWarning: Recall and F-score are ill-defined and being set to 0.0 in labels with no true samples. Use `zero_division` parameter to control this behavior.\n",
      "  _warn_prf(average, modifier, msg_start, len(result))\n"
     ]
    }
   ],
   "metadata": {}
  },
  {
   "cell_type": "code",
   "execution_count": 12,
   "source": [
    "la = analyzers.LuisAnalyser(large_app_id, large_subscription_key)\n",
    "docs, X, y = converters.parse_data(large_test_path)\n",
    "luis_results, query_times = la.get_annotations(X)\n",
    "y_preds = [r['prediction']['topIntent']  for r in luis_results['results']]\n",
    "\n",
    "print(classification_report(y, y_preds))\n",
    "print(\"Accuracy: \", accuracy_score(y, y_preds)) \n",
    "print(\"F1-Score: \", f1_score(y, y_preds, average='macro')) "
   ],
   "outputs": [
    {
     "output_type": "stream",
     "name": "stdout",
     "text": [
      "                          precision    recall  f1-score   support\n",
      "\n",
      "                    None       0.00      0.00      0.00         0\n",
      "             alarm_query       0.93      0.66      0.77        94\n",
      "            alarm_remove       0.81      0.54      0.64        54\n",
      "               alarm_set       0.61      0.88      0.72        96\n",
      "       audio_volume_down       0.86      0.90      0.88        40\n",
      "       audio_volume_mute       0.88      0.57      0.69        76\n",
      "         audio_volume_up       0.84      0.88      0.86        73\n",
      "          calendar_query       0.43      0.45      0.44        95\n",
      "         calendar_remove       0.80      0.75      0.77       102\n",
      "            calendar_set       0.61      0.74      0.67        91\n",
      "          cooking_recipe       0.72      0.78      0.74       107\n",
      "        datetime_convert       0.70      0.91      0.80        47\n",
      "          datetime_query       0.72      0.91      0.81        92\n",
      "        email_addcontact       0.75      0.87      0.80        38\n",
      "             email_query       0.82      0.84      0.83        93\n",
      "      email_querycontact       0.81      0.70      0.75       105\n",
      "         email_sendemail       0.81      0.70      0.75        94\n",
      "          general_affirm       0.95      0.89      0.92        98\n",
      "     general_commandstop       0.97      0.95      0.96        94\n",
      "         general_confirm       0.98      1.00      0.99        84\n",
      "        general_dontcare       0.96      0.91      0.93       100\n",
      "         general_explain       0.92      0.87      0.90        99\n",
      "            general_joke       0.98      0.97      0.97        58\n",
      "          general_negate       0.80      0.76      0.78        93\n",
      "          general_praise       0.57      0.98      0.72        96\n",
      "          general_quirky       0.24      0.25      0.24       104\n",
      "          general_repeat       0.97      0.95      0.96       100\n",
      "            iot_cleaning       0.96      0.87      0.91        82\n",
      "              iot_coffee       0.99      0.89      0.94        98\n",
      "     iot_hue_lightchange       0.87      0.78      0.82       102\n",
      "        iot_hue_lightdim       0.85      0.89      0.87        56\n",
      "        iot_hue_lightoff       0.97      0.89      0.93        98\n",
      "         iot_hue_lighton       0.46      0.68      0.55        19\n",
      "         iot_hue_lightup       0.82      0.85      0.83        74\n",
      "            iot_wemo_off       0.75      0.87      0.81        53\n",
      "             iot_wemo_on       0.80      0.85      0.82        41\n",
      "       lists_createoradd       0.86      0.77      0.81        94\n",
      "             lists_query       0.72      0.85      0.78        99\n",
      "            lists_remove       0.95      0.80      0.86       108\n",
      "          music_likeness       0.64      0.66      0.65        93\n",
      "             music_query       0.75      0.66      0.70       100\n",
      "          music_settings       0.54      0.74      0.62        34\n",
      "              news_query       0.78      0.69      0.73        94\n",
      "          play_audiobook       0.78      0.83      0.81        96\n",
      "               play_game       0.76      0.78      0.77       100\n",
      "              play_music       0.62      0.60      0.61        97\n",
      "           play_podcasts       0.96      0.86      0.91        93\n",
      "              play_radio       0.86      0.85      0.86        89\n",
      "             qa_currency       0.92      0.93      0.93        92\n",
      "           qa_definition       0.89      0.74      0.81        97\n",
      "              qa_factoid       0.49      0.49      0.49        85\n",
      "                qa_maths       0.73      0.85      0.79        75\n",
      "                qa_stock       0.95      0.85      0.89       104\n",
      "   recommendation_events       0.62      0.73      0.67        85\n",
      "recommendation_locations       0.52      0.73      0.61        84\n",
      "   recommendation_movies       0.86      0.81      0.84        63\n",
      "             social_post       0.91      0.79      0.84        98\n",
      "            social_query       0.75      0.71      0.73        93\n",
      "          takeaway_order       0.70      0.82      0.75       101\n",
      "          takeaway_query       0.82      0.48      0.60       103\n",
      "         transport_query       0.78      0.67      0.72       104\n",
      "          transport_taxi       0.94      0.95      0.95        84\n",
      "        transport_ticket       0.89      0.87      0.88       107\n",
      "       transport_traffic       0.96      0.86      0.91        95\n",
      "           weather_query       0.82      0.84      0.83       105\n",
      "\n",
      "                accuracy                           0.78      5518\n",
      "               macro avg       0.78      0.77      0.77      5518\n",
      "            weighted avg       0.80      0.78      0.78      5518\n",
      "\n",
      "Accuracy:  0.7828923523015585\n",
      "F1-Score:  0.7713437043413459\n"
     ]
    },
    {
     "output_type": "stream",
     "name": "stderr",
     "text": [
      "/usr/local/var/pyenv/versions/3.8.1/lib/python3.8/site-packages/sklearn/metrics/_classification.py:1245: UndefinedMetricWarning: Recall and F-score are ill-defined and being set to 0.0 in labels with no true samples. Use `zero_division` parameter to control this behavior.\n",
      "  _warn_prf(average, modifier, msg_start, len(result))\n",
      "/usr/local/var/pyenv/versions/3.8.1/lib/python3.8/site-packages/sklearn/metrics/_classification.py:1245: UndefinedMetricWarning: Recall and F-score are ill-defined and being set to 0.0 in labels with no true samples. Use `zero_division` parameter to control this behavior.\n",
      "  _warn_prf(average, modifier, msg_start, len(result))\n",
      "/usr/local/var/pyenv/versions/3.8.1/lib/python3.8/site-packages/sklearn/metrics/_classification.py:1245: UndefinedMetricWarning: Recall and F-score are ill-defined and being set to 0.0 in labels with no true samples. Use `zero_division` parameter to control this behavior.\n",
      "  _warn_prf(average, modifier, msg_start, len(result))\n"
     ]
    }
   ],
   "metadata": {}
  },
  {
   "cell_type": "code",
   "execution_count": 14,
   "source": [
    "import numpy as np\n",
    "np.mean(query_times), np.std(query_times)"
   ],
   "outputs": [
    {
     "output_type": "execute_result",
     "data": {
      "text/plain": [
       "(0.3149442927221234, 0.05304703810304892)"
      ]
     },
     "metadata": {},
     "execution_count": 14
    }
   ],
   "metadata": {}
  }
 ],
 "metadata": {
  "orig_nbformat": 4,
  "language_info": {
   "name": "python",
   "version": "3.8.1",
   "mimetype": "text/x-python",
   "codemirror_mode": {
    "name": "ipython",
    "version": 3
   },
   "pygments_lexer": "ipython3",
   "nbconvert_exporter": "python",
   "file_extension": ".py"
  },
  "kernelspec": {
   "name": "python3",
   "display_name": "Python 3.8.1 64-bit ('3.8.1': pyenv)"
  },
  "interpreter": {
   "hash": "cbe6ceceef8f6565a4e690154dea3e73bc5df4b63ef43a4a30f91f6ff59f296f"
  }
 },
 "nbformat": 4,
 "nbformat_minor": 2
}