{
 "cells": [
  {
   "cell_type": "code",
   "execution_count": 41,
   "source": [
    "import converters\n",
    "import analyzers\n",
    "import numpy as np\n",
    "import pandas as pd\n",
    "import time\n",
    "import tqdm\n",
    "from sklearn.metrics import classification_report, accuracy_score, f1_score"
   ],
   "outputs": [],
   "metadata": {}
  },
  {
   "cell_type": "code",
   "execution_count": 17,
   "source": [
    "small_test_path = 'data/hwu_small_test.csv'\n",
    "small_train_path = 'data/hwu_small_train.csv'\n",
    "large_test_path = 'data/hwu_large_test.csv'\n",
    "large_train_path = 'data/hwu_large_train.csv'"
   ],
   "outputs": [],
   "metadata": {}
  },
  {
   "cell_type": "code",
   "execution_count": null,
   "source": [
    "docs, X, y = converters.parse_data(small_train_path)\n",
    "\n",
    "df = pd.DataFrame({'X': X, 'y': y})\n",
    "df.to_csv('hwu_watson_small.csv', header=None, columns=['X', 'y'], index=False)"
   ],
   "outputs": [],
   "metadata": {}
  },
  {
   "cell_type": "code",
   "execution_count": 37,
   "source": [
    "docs, X, y = converters.parse_data(large_train_path)\n",
    "\n",
    "df = pd.DataFrame({'X': X, 'y': y})\n",
    "df.to_csv('hwu_watson_large.csv', header=None, columns=['X', 'y'], index=False)"
   ],
   "outputs": [],
   "metadata": {}
  },
  {
   "cell_type": "code",
   "execution_count": 5,
   "source": [
    "!pip install --upgrade \"ibm-watson>=5.2.2\""
   ],
   "outputs": [
    {
     "output_type": "stream",
     "name": "stdout",
     "text": [
      "Collecting ibm-watson>=5.2.2\n",
      "  Downloading ibm-watson-5.2.3.tar.gz (406 kB)\n",
      "\u001b[K     |████████████████████████████████| 406 kB 744 kB/s \n",
      "\u001b[?25h  Installing build dependencies ... \u001b[?25ldone\n",
      "\u001b[?25h  Getting requirements to build wheel ... \u001b[?25ldone\n",
      "\u001b[?25h    Preparing wheel metadata ... \u001b[?25ldone\n",
      "\u001b[?25hCollecting websocket-client==1.1.0\n",
      "  Downloading websocket_client-1.1.0-py2.py3-none-any.whl (68 kB)\n",
      "\u001b[K     |████████████████████████████████| 68 kB 1.9 MB/s \n",
      "\u001b[?25hRequirement already satisfied: requests<3.0,>=2.0 in /usr/local/var/pyenv/versions/3.8.1/lib/python3.8/site-packages (from ibm-watson>=5.2.2) (2.25.1)\n",
      "Requirement already satisfied: python-dateutil>=2.5.3 in /usr/local/var/pyenv/versions/3.8.1/lib/python3.8/site-packages (from ibm-watson>=5.2.2) (2.8.0)\n",
      "Collecting ibm-cloud-sdk-core==3.*,>=3.3.6\n",
      "  Downloading ibm-cloud-sdk-core-3.11.3.tar.gz (45 kB)\n",
      "\u001b[K     |████████████████████████████████| 45 kB 2.5 MB/s \n",
      "\u001b[?25hCollecting PyJWT<3.0.0,>=2.0.1\n",
      "  Downloading PyJWT-2.1.0-py3-none-any.whl (16 kB)\n",
      "Requirement already satisfied: six>=1.5 in /usr/local/var/pyenv/versions/3.8.1/lib/python3.8/site-packages (from python-dateutil>=2.5.3->ibm-watson>=5.2.2) (1.15.0)\n",
      "Requirement already satisfied: idna<3,>=2.5 in /usr/local/var/pyenv/versions/3.8.1/lib/python3.8/site-packages (from requests<3.0,>=2.0->ibm-watson>=5.2.2) (2.8)\n",
      "Requirement already satisfied: certifi>=2017.4.17 in /usr/local/var/pyenv/versions/3.8.1/lib/python3.8/site-packages (from requests<3.0,>=2.0->ibm-watson>=5.2.2) (2018.11.29)\n",
      "Requirement already satisfied: urllib3<1.27,>=1.21.1 in /usr/local/var/pyenv/versions/3.8.1/lib/python3.8/site-packages (from requests<3.0,>=2.0->ibm-watson>=5.2.2) (1.24.1)\n",
      "Requirement already satisfied: chardet<5,>=3.0.2 in /usr/local/var/pyenv/versions/3.8.1/lib/python3.8/site-packages (from requests<3.0,>=2.0->ibm-watson>=5.2.2) (3.0.4)\n",
      "Building wheels for collected packages: ibm-watson, ibm-cloud-sdk-core\n",
      "  Building wheel for ibm-watson (PEP 517) ... \u001b[?25ldone\n",
      "\u001b[?25h  Created wheel for ibm-watson: filename=ibm_watson-5.2.3-py3-none-any.whl size=403336 sha256=30ab54d59ccd9f94bd3c9495f1b8b97d62ccd0f719e619dbf7ea3fe249bac143\n",
      "  Stored in directory: /home/idris/.cache/pip/wheels/9a/f3/ae/168c4928bcea8bd6efdf7945024b402b859ceca72d96553f19\n",
      "  Building wheel for ibm-cloud-sdk-core (setup.py) ... \u001b[?25ldone\n",
      "\u001b[?25h  Created wheel for ibm-cloud-sdk-core: filename=ibm_cloud_sdk_core-3.11.3-py3-none-any.whl size=74742 sha256=dd9fc43a7597a185a98130a0073acea874fd3add4fc52a8496dbe6f60f02d8d4\n",
      "  Stored in directory: /home/idris/.cache/pip/wheels/df/d0/62/8e04dea28cc4684de1793bd2e14c46a0fd3b422c5fc35d59aa\n",
      "Successfully built ibm-watson ibm-cloud-sdk-core\n",
      "Installing collected packages: PyJWT, websocket-client, ibm-cloud-sdk-core, ibm-watson\n",
      "  Attempting uninstall: websocket-client\n",
      "    Found existing installation: websocket-client 0.59.0\n",
      "    Uninstalling websocket-client-0.59.0:\n",
      "      Successfully uninstalled websocket-client-0.59.0\n",
      "\u001b[31mERROR: pip's dependency resolver does not currently take into account all the packages that are installed. This behaviour is the source of the following dependency conflicts.\n",
      "docker-compose 1.29.1 requires websocket-client<1,>=0.32.0, but you have websocket-client 1.1.0 which is incompatible.\u001b[0m\n",
      "Successfully installed PyJWT-2.1.0 ibm-cloud-sdk-core-3.11.3 ibm-watson-5.2.3 websocket-client-1.1.0\n",
      "\u001b[33mWARNING: You are using pip version 21.1.1; however, version 21.2.4 is available.\n",
      "You should consider upgrading via the '/usr/local/var/pyenv/versions/3.8.1/bin/python3.8 -m pip install --upgrade pip' command.\u001b[0m\n"
     ]
    }
   ],
   "metadata": {}
  },
  {
   "cell_type": "code",
   "execution_count": 1,
   "source": [
    "import json\n",
    "from ibm_watson import AssistantV2\n",
    "from ibm_cloud_sdk_core.authenticators import IAMAuthenticator"
   ],
   "outputs": [],
   "metadata": {}
  },
  {
   "cell_type": "code",
   "execution_count": 64,
   "source": [
    "def calc_results(test_path):\n",
    "    docs, X, y = converters.parse_data(test_path)\n",
    "    results = []\n",
    "    cant_classify_count = 0\n",
    "    times = []\n",
    "    \n",
    "    # get IAMAuthenticator key from Watson web interface\n",
    "    authenticator = IAMAuthenticator('')\n",
    "    assistant = AssistantV2(\n",
    "        version='2021-06-14',\n",
    "        authenticator = authenticator\n",
    "    )\n",
    "\n",
    "    assistant.set_service_url('https://api.eu-de.assistant.watson.cloud.ibm.com')\n",
    "    for sent in tqdm.tqdm(X):\n",
    "        start_time = time.time()\n",
    "        # get assistant_id key from Watson web interface\n",
    "        result = assistant.message_stateless(\n",
    "            assistant_id='',\n",
    "            input={\n",
    "                'message_type': 'text',\n",
    "                'text': sent,\n",
    "                'options': {'alternate_intents': True}\n",
    "            }\n",
    "        ).get_result()\n",
    "        times.append(time.time() - start_time)\n",
    "\n",
    "        if not result['output']['intents']:\n",
    "            cant_classify_count += 1\n",
    "            print(sent)\n",
    "            print(result)\n",
    "            break\n",
    "            result = {'output': {'intents': [{'intent': 'Other'}]}}            \n",
    "        results.append(result)\n",
    "    return results, times, cant_classify_count"
   ],
   "outputs": [],
   "metadata": {}
  },
  {
   "cell_type": "code",
   "execution_count": 65,
   "source": [
    "results, times, cant_classify_count = calc_results(large_test_path)"
   ],
   "outputs": [
    {
     "output_type": "stream",
     "name": "stderr",
     "text": [
      "100%|██████████| 5518/5518 [16:40<00:00,  5.52it/s]\n"
     ]
    }
   ],
   "metadata": {}
  },
  {
   "cell_type": "code",
   "execution_count": 66,
   "source": [
    "len(results), cant_classify_count"
   ],
   "outputs": [
    {
     "output_type": "execute_result",
     "data": {
      "text/plain": [
       "(5518, 0)"
      ]
     },
     "metadata": {},
     "execution_count": 66
    }
   ],
   "metadata": {}
  },
  {
   "cell_type": "code",
   "execution_count": 60,
   "source": [
    "_, _, y = converters.parse_data(small_test_path)\n",
    "y_pred = []\n",
    "for r in results:\n",
    "    y_pred.append(r['output']['intents'][0]['intent'])\n",
    "print(classification_report(y, y_pred))\n",
    "print(\"Accuracy: \", accuracy_score(y, y_pred)) \n",
    "print(\"F1-Score: \", f1_score(y, y_pred, average='macro')) \n",
    "print(f\"Mean response time: {np.mean(times)} +- {np.std(times)} sec.\")"
   ],
   "outputs": [
    {
     "output_type": "stream",
     "name": "stdout",
     "text": [
      "                          precision    recall  f1-score   support\n",
      "\n",
      "             alarm_query       0.89      0.89      0.89        19\n",
      "            alarm_remove       0.36      0.45      0.40        11\n",
      "               alarm_set       0.78      0.74      0.76        19\n",
      "       audio_volume_down       0.50      0.88      0.64         8\n",
      "       audio_volume_mute       0.73      0.53      0.62        15\n",
      "         audio_volume_up       0.67      0.62      0.64        13\n",
      "          calendar_query       0.36      0.47      0.41        19\n",
      "         calendar_remove       0.89      0.84      0.86        19\n",
      "            calendar_set       0.77      0.53      0.62        19\n",
      "          cooking_recipe       0.80      0.84      0.82        19\n",
      "        datetime_convert       0.50      0.75      0.60         8\n",
      "          datetime_query       0.88      0.74      0.80        19\n",
      "        email_addcontact       0.53      1.00      0.70         8\n",
      "             email_query       0.77      0.89      0.83        19\n",
      "      email_querycontact       0.57      0.63      0.60        19\n",
      "         email_sendemail       1.00      0.63      0.77        19\n",
      "          general_affirm       0.90      1.00      0.95        19\n",
      "     general_commandstop       1.00      1.00      1.00        19\n",
      "         general_confirm       1.00      1.00      1.00        19\n",
      "        general_dontcare       0.80      0.84      0.82        19\n",
      "         general_explain       0.76      0.68      0.72        19\n",
      "            general_joke       0.92      1.00      0.96        12\n",
      "          general_negate       0.76      0.84      0.80        19\n",
      "          general_praise       0.90      1.00      0.95        19\n",
      "          general_quirky       0.33      0.11      0.16        19\n",
      "          general_repeat       0.86      0.95      0.90        19\n",
      "            iot_cleaning       0.89      1.00      0.94        16\n",
      "              iot_coffee       0.95      1.00      0.97        19\n",
      "     iot_hue_lightchange       0.79      0.79      0.79        19\n",
      "        iot_hue_lightdim       0.91      0.83      0.87        12\n",
      "        iot_hue_lightoff       0.89      0.84      0.86        19\n",
      "         iot_hue_lighton       0.43      1.00      0.60         3\n",
      "         iot_hue_lightup       0.91      0.71      0.80        14\n",
      "            iot_wemo_off       0.50      0.78      0.61         9\n",
      "             iot_wemo_on       0.50      0.71      0.59         7\n",
      "       lists_createoradd       0.76      0.68      0.72        19\n",
      "             lists_query       0.83      0.79      0.81        19\n",
      "            lists_remove       0.83      0.79      0.81        19\n",
      "          music_likeness       0.58      0.78      0.67        18\n",
      "             music_query       0.73      0.42      0.53        19\n",
      "          music_settings       0.60      0.43      0.50         7\n",
      "              news_query       0.80      0.63      0.71        19\n",
      "          play_audiobook       0.89      0.84      0.86        19\n",
      "               play_game       0.84      0.84      0.84        19\n",
      "              play_music       0.62      0.53      0.57        19\n",
      "           play_podcasts       0.94      0.89      0.92        19\n",
      "              play_radio       0.87      0.68      0.76        19\n",
      "             qa_currency       0.95      0.95      0.95        19\n",
      "           qa_definition       0.75      0.63      0.69        19\n",
      "              qa_factoid       0.40      0.42      0.41        19\n",
      "                qa_maths       0.76      0.93      0.84        14\n",
      "                qa_stock       0.80      0.84      0.82        19\n",
      "   recommendation_events       0.87      0.68      0.76        19\n",
      "recommendation_locations       0.74      0.89      0.81        19\n",
      "   recommendation_movies       0.91      1.00      0.95        10\n",
      "             social_post       0.94      0.89      0.92        19\n",
      "            social_query       0.73      0.89      0.80        18\n",
      "          takeaway_order       0.67      0.84      0.74        19\n",
      "          takeaway_query       0.92      0.58      0.71        19\n",
      "         transport_query       0.73      0.84      0.78        19\n",
      "          transport_taxi       0.95      1.00      0.97        18\n",
      "        transport_ticket       0.88      0.79      0.83        19\n",
      "       transport_traffic       0.90      0.95      0.92        19\n",
      "           weather_query       0.84      0.84      0.84        19\n",
      "\n",
      "                accuracy                           0.78      1076\n",
      "               macro avg       0.77      0.78      0.76      1076\n",
      "            weighted avg       0.79      0.78      0.77      1076\n",
      "\n",
      "Accuracy:  0.7760223048327137\n",
      "F1-Score:  0.761353285928569\n",
      "Mean response time: 0.17958912419563774 +- 0.03337305363714691 sec.\n"
     ]
    }
   ],
   "metadata": {}
  },
  {
   "cell_type": "code",
   "execution_count": 67,
   "source": [
    "_, _, y = converters.parse_data(large_test_path)\n",
    "y_pred = []\n",
    "for r in results:\n",
    "    y_pred.append(r['output']['intents'][0]['intent'])\n",
    "print(classification_report(y, y_pred))\n",
    "print(\"Accuracy: \", accuracy_score(y, y_pred)) \n",
    "print(\"F1-Score: \", f1_score(y, y_pred, average='macro')) \n",
    "print(f\"Mean response time: {np.mean(times)} +- {np.std(times)} sec.\")"
   ],
   "outputs": [
    {
     "output_type": "stream",
     "name": "stdout",
     "text": [
      "                          precision    recall  f1-score   support\n",
      "\n",
      "             alarm_query       0.97      0.91      0.94        94\n",
      "            alarm_remove       0.84      0.80      0.82        54\n",
      "               alarm_set       0.81      0.86      0.84        96\n",
      "       audio_volume_down       0.72      0.95      0.82        40\n",
      "       audio_volume_mute       0.93      0.66      0.77        76\n",
      "         audio_volume_up       0.87      0.89      0.88        73\n",
      "          calendar_query       0.62      0.57      0.59        95\n",
      "         calendar_remove       0.86      0.87      0.87       102\n",
      "            calendar_set       0.72      0.86      0.78        91\n",
      "          cooking_recipe       0.89      0.92      0.90       107\n",
      "        datetime_convert       0.81      1.00      0.90        47\n",
      "          datetime_query       0.82      0.93      0.87        92\n",
      "        email_addcontact       0.79      0.89      0.84        38\n",
      "             email_query       0.85      0.91      0.88        93\n",
      "      email_querycontact       0.92      0.74      0.82       105\n",
      "         email_sendemail       0.92      0.85      0.88        94\n",
      "          general_affirm       0.97      0.87      0.91        98\n",
      "     general_commandstop       0.97      1.00      0.98        94\n",
      "         general_confirm       0.98      1.00      0.99        84\n",
      "        general_dontcare       0.94      0.99      0.97       100\n",
      "         general_explain       0.88      0.91      0.90        99\n",
      "            general_joke       0.98      0.97      0.97        58\n",
      "          general_negate       0.86      0.91      0.89        93\n",
      "          general_praise       0.77      1.00      0.87        96\n",
      "          general_quirky       0.40      0.23      0.29       104\n",
      "          general_repeat       0.97      0.95      0.96       100\n",
      "            iot_cleaning       0.97      0.95      0.96        82\n",
      "              iot_coffee       0.97      0.99      0.98        98\n",
      "     iot_hue_lightchange       0.92      0.90      0.91       102\n",
      "        iot_hue_lightdim       0.85      0.93      0.89        56\n",
      "        iot_hue_lightoff       0.96      0.92      0.94        98\n",
      "         iot_hue_lighton       0.60      0.63      0.62        19\n",
      "         iot_hue_lightup       0.92      0.89      0.90        74\n",
      "            iot_wemo_off       0.79      0.92      0.85        53\n",
      "             iot_wemo_on       0.88      0.85      0.86        41\n",
      "       lists_createoradd       0.88      0.91      0.90        94\n",
      "             lists_query       0.84      0.84      0.84        99\n",
      "            lists_remove       0.97      0.81      0.88       108\n",
      "          music_likeness       0.91      0.85      0.88        93\n",
      "             music_query       0.88      0.83      0.86       100\n",
      "          music_settings       0.53      0.82      0.64        34\n",
      "              news_query       0.82      0.71      0.76        94\n",
      "          play_audiobook       0.87      0.89      0.88        96\n",
      "               play_game       0.87      0.90      0.88       100\n",
      "              play_music       0.72      0.62      0.67        97\n",
      "           play_podcasts       0.95      0.88      0.92        93\n",
      "              play_radio       0.82      0.84      0.83        89\n",
      "             qa_currency       0.89      1.00      0.94        92\n",
      "           qa_definition       0.91      0.87      0.89        97\n",
      "              qa_factoid       0.72      0.59      0.65        85\n",
      "                qa_maths       0.85      0.92      0.88        75\n",
      "                qa_stock       0.93      0.88      0.91       104\n",
      "   recommendation_events       0.73      0.82      0.77        85\n",
      "recommendation_locations       0.75      0.80      0.77        84\n",
      "   recommendation_movies       0.83      0.87      0.85        63\n",
      "             social_post       0.86      0.85      0.86        98\n",
      "            social_query       0.79      0.81      0.80        93\n",
      "          takeaway_order       0.79      0.85      0.82       101\n",
      "          takeaway_query       0.81      0.66      0.73       103\n",
      "         transport_query       0.79      0.83      0.81       104\n",
      "          transport_taxi       0.89      0.98      0.93        84\n",
      "        transport_ticket       0.89      0.87      0.88       107\n",
      "       transport_traffic       0.96      0.92      0.94        95\n",
      "           weather_query       0.86      0.98      0.92       105\n",
      "\n",
      "                accuracy                           0.86      5518\n",
      "               macro avg       0.85      0.86      0.85      5518\n",
      "            weighted avg       0.86      0.86      0.85      5518\n",
      "\n",
      "Accuracy:  0.8555636100036245\n",
      "F1-Score:  0.8487821508801094\n",
      "Mean response time: 0.1807001174122754 +- 0.03607990382080678 sec.\n"
     ]
    }
   ],
   "metadata": {}
  }
 ],
 "metadata": {
  "orig_nbformat": 4,
  "language_info": {
   "name": "python",
   "version": "3.8.1",
   "mimetype": "text/x-python",
   "codemirror_mode": {
    "name": "ipython",
    "version": 3
   },
   "pygments_lexer": "ipython3",
   "nbconvert_exporter": "python",
   "file_extension": ".py"
  },
  "kernelspec": {
   "name": "python3",
   "display_name": "Python 3.8.1 64-bit ('3.8.1': pyenv)"
  },
  "interpreter": {
   "hash": "cbe6ceceef8f6565a4e690154dea3e73bc5df4b63ef43a4a30f91f6ff59f296f"
  }
 },
 "nbformat": 4,
 "nbformat_minor": 2
}