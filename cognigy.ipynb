{
 "cells": [
  {
   "cell_type": "code",
   "execution_count": 105,
   "source": [
    "import requests\n",
    "import pandas as pd\n",
    "import uuid\n",
    "import time\n",
    "import tqdm\n",
    "import numpy as np\n",
    "from sklearn.metrics import classification_report, accuracy_score, f1_score\n",
    "from converters import parse_data\n",
    "\n",
    "base_url = 'https://api-trial.cognigy.ai/new/'\n",
    "api_key = 'xxx'"
   ],
   "outputs": [],
   "metadata": {}
  },
  {
   "cell_type": "markdown",
   "source": [
    "1. Go to https://trial.cognigy.ai/login\n",
    "2. Create Flow with Intents\n",
    "3. Import Intents using CSV import in Web interface\n",
    "4. Build model in Web Interface\n",
    "5. Add Code node to Flow Chart with following code (actions.output(\"intentScore:\" + input.intentScore +\";intent:\"+input.intent);)\n",
    "5. Query from here"
   ],
   "metadata": {}
  },
  {
   "cell_type": "code",
   "execution_count": 88,
   "source": [
    "def convert_data_to_cognigy_format(path, savepath):\n",
    "    data, _, _ = parse_data(path)\n",
    "    csv_col0 = []\n",
    "    csv_col1 = []\n",
    "    csv_col2 = []\n",
    "    for intent_name, intent_data in data.items():    \n",
    "        csv_col0.append(intent_name)\n",
    "        csv_col1.append('exampleSentence')\n",
    "        csv_col2.append(intent_data['question'])\n",
    "        for question in intent_data['paraphrased_questions']:\n",
    "            csv_col0.append(intent_name)\n",
    "            csv_col1.append('exampleSentence')\n",
    "            csv_col2.append(question)\n",
    "    csv_col0[:2], csv_col1[:2], csv_col2[:2]\n",
    "    df = pd.DataFrame({'c0': csv_col0, 'c1': csv_col1, 'c2': csv_col2})\n",
    "    df.to_csv(savepath, header=None, index=None)"
   ],
   "outputs": [],
   "metadata": {}
  },
  {
   "cell_type": "code",
   "execution_count": 101,
   "source": [
    "def query_api(text):\n",
    "  rest_endpoint = 'https://endpoint-trial.cognigy.ai/xxx'\n",
    "  rest_params = {\n",
    "    \"userId\":\"312312\",\n",
    "    \"sessionId\": uuid.uuid4().hex,\n",
    "    \"text\": text,\n",
    "    \"api_key\": api_key,\n",
    "  }\n",
    "  response = requests.post(rest_endpoint, json=rest_params)\n",
    "  return response"
   ],
   "outputs": [],
   "metadata": {}
  },
  {
   "cell_type": "code",
   "execution_count": 102,
   "source": [
    "def get_intent_name(response):\n",
    "    splitted = response.json()['text'].split(';')\n",
    "    intent_score = splitted[0]\n",
    "    intent_name_raw = splitted[1]\n",
    "    intent_name = intent_name_raw.split(\"intent:\")[1].replace(\" __GARBAGE__\", \"\")\n",
    "    return intent_name"
   ],
   "outputs": [],
   "metadata": {}
  },
  {
   "cell_type": "code",
   "execution_count": 103,
   "source": [
    "times = []\n",
    "_, X, y = parse_data('data/hwu_small_test.csv')\n",
    "y_pred = []\n",
    "for sent in tqdm.tqdm(X):\n",
    "    start_time = time.time()\n",
    "    response = query_api(sent)\n",
    "    times.append(time.time() - start_time)\n",
    "    y_pred.append(get_intent_name(response))"
   ],
   "outputs": [
    {
     "output_type": "stream",
     "name": "stderr",
     "text": [
      "100%|██████████| 1076/1076 [10:39<00:00,  1.68it/s]\n"
     ]
    }
   ],
   "metadata": {}
  },
  {
   "cell_type": "code",
   "execution_count": 106,
   "source": [
    "print(classification_report(y, y_pred))\n",
    "print(\"Accuracy: \", accuracy_score(y, y_pred)) \n",
    "print(\"F1-Score: \", f1_score(y, y_pred, average='macro')) \n",
    "print(f\"Mean response time: {np.mean(times)} +- {np.std(times)} sec.\")"
   ],
   "outputs": [
    {
     "output_type": "stream",
     "name": "stdout",
     "text": [
      "                          precision    recall  f1-score   support\n",
      "\n",
      "             alarm_query       1.00      0.89      0.94        19\n",
      "            alarm_remove       0.69      0.82      0.75        11\n",
      "               alarm_set       0.80      0.63      0.71        19\n",
      "       audio_volume_down       0.54      0.88      0.67         8\n",
      "       audio_volume_mute       1.00      0.73      0.85        15\n",
      "         audio_volume_up       0.88      0.54      0.67        13\n",
      "          calendar_query       0.57      0.42      0.48        19\n",
      "         calendar_remove       0.94      0.89      0.92        19\n",
      "            calendar_set       0.67      0.74      0.70        19\n",
      "          cooking_recipe       0.94      0.84      0.89        19\n",
      "        datetime_convert       0.58      0.88      0.70         8\n",
      "          datetime_query       0.71      0.63      0.67        19\n",
      "        email_addcontact       0.80      1.00      0.89         8\n",
      "             email_query       0.89      0.89      0.89        19\n",
      "      email_querycontact       0.78      0.74      0.76        19\n",
      "         email_sendemail       0.94      0.79      0.86        19\n",
      "          general_affirm       1.00      0.74      0.85        19\n",
      "     general_commandstop       0.75      0.95      0.84        19\n",
      "         general_confirm       0.86      1.00      0.93        19\n",
      "        general_dontcare       0.88      0.74      0.80        19\n",
      "         general_explain       0.92      0.63      0.75        19\n",
      "            general_joke       1.00      1.00      1.00        12\n",
      "          general_negate       0.90      1.00      0.95        19\n",
      "          general_praise       1.00      0.89      0.94        19\n",
      "          general_quirky       0.30      0.16      0.21        19\n",
      "          general_repeat       0.81      0.89      0.85        19\n",
      "            iot_cleaning       1.00      1.00      1.00        16\n",
      "              iot_coffee       0.95      1.00      0.97        19\n",
      "     iot_hue_lightchange       0.93      0.68      0.79        19\n",
      "        iot_hue_lightdim       0.53      0.75      0.62        12\n",
      "        iot_hue_lightoff       0.80      0.84      0.82        19\n",
      "         iot_hue_lighton       0.50      0.33      0.40         3\n",
      "         iot_hue_lightup       0.70      0.50      0.58        14\n",
      "            iot_wemo_off       1.00      1.00      1.00         9\n",
      "             iot_wemo_on       0.67      0.57      0.62         7\n",
      "       lists_createoradd       0.83      0.79      0.81        19\n",
      "             lists_query       0.70      0.74      0.72        19\n",
      "            lists_remove       0.94      0.79      0.86        19\n",
      "          music_likeness       0.80      0.67      0.73        18\n",
      "             music_query       0.76      0.68      0.72        19\n",
      "          music_settings       0.36      0.57      0.44         7\n",
      "              news_query       0.92      0.58      0.71        19\n",
      "                    null       0.00      0.00      0.00         0\n",
      "          play_audiobook       0.89      0.89      0.89        19\n",
      "               play_game       0.85      0.89      0.87        19\n",
      "              play_music       0.89      0.42      0.57        19\n",
      "           play_podcasts       0.94      0.84      0.89        19\n",
      "              play_radio       0.83      0.79      0.81        19\n",
      "             qa_currency       1.00      0.84      0.91        19\n",
      "           qa_definition       0.93      0.74      0.82        19\n",
      "              qa_factoid       0.42      0.58      0.49        19\n",
      "                qa_maths       0.86      0.86      0.86        14\n",
      "                qa_stock       0.89      0.84      0.86        19\n",
      "   recommendation_events       0.86      0.63      0.73        19\n",
      "recommendation_locations       0.81      0.89      0.85        19\n",
      "   recommendation_movies       0.67      1.00      0.80        10\n",
      "             social_post       0.84      0.84      0.84        19\n",
      "            social_query       0.76      0.72      0.74        18\n",
      "          takeaway_order       0.65      0.79      0.71        19\n",
      "          takeaway_query       0.85      0.58      0.69        19\n",
      "         transport_query       0.67      0.84      0.74        19\n",
      "          transport_taxi       1.00      1.00      1.00        18\n",
      "        transport_ticket       1.00      0.74      0.85        19\n",
      "       transport_traffic       1.00      0.95      0.97        19\n",
      "           weather_query       0.95      1.00      0.97        19\n",
      "\n",
      "                accuracy                           0.78      1076\n",
      "               macro avg       0.80      0.76      0.77      1076\n",
      "            weighted avg       0.83      0.78      0.79      1076\n",
      "\n",
      "Accuracy:  0.7760223048327137\n",
      "F1-Score:  0.771270761447325\n",
      "Mean response time: 0.5932292887269343 +- 0.1799293494192432 sec.\n"
     ]
    },
    {
     "output_type": "stream",
     "name": "stderr",
     "text": [
      "/usr/local/var/pyenv/versions/3.8.1/lib/python3.8/site-packages/sklearn/metrics/_classification.py:1245: UndefinedMetricWarning: Recall and F-score are ill-defined and being set to 0.0 in labels with no true samples. Use `zero_division` parameter to control this behavior.\n",
      "  _warn_prf(average, modifier, msg_start, len(result))\n",
      "/usr/local/var/pyenv/versions/3.8.1/lib/python3.8/site-packages/sklearn/metrics/_classification.py:1245: UndefinedMetricWarning: Recall and F-score are ill-defined and being set to 0.0 in labels with no true samples. Use `zero_division` parameter to control this behavior.\n",
      "  _warn_prf(average, modifier, msg_start, len(result))\n",
      "/usr/local/var/pyenv/versions/3.8.1/lib/python3.8/site-packages/sklearn/metrics/_classification.py:1245: UndefinedMetricWarning: Recall and F-score are ill-defined and being set to 0.0 in labels with no true samples. Use `zero_division` parameter to control this behavior.\n",
      "  _warn_prf(average, modifier, msg_start, len(result))\n"
     ]
    }
   ],
   "metadata": {}
  },
  {
   "cell_type": "code",
   "execution_count": 107,
   "source": [
    "convert_data_to_cognigy_format('data/hwu_large_train.csv', 'data/hwu_large_train_cognigy.csv')"
   ],
   "outputs": [],
   "metadata": {}
  },
  {
   "cell_type": "code",
   "execution_count": 108,
   "source": [
    "times = []\n",
    "_, X, y = parse_data('data/hwu_large_test.csv')\n",
    "y_pred = []\n",
    "for sent in tqdm.tqdm(X):\n",
    "    start_time = time.time()\n",
    "    response = query_api(sent)\n",
    "    times.append(time.time() - start_time)\n",
    "    y_pred.append(get_intent_name(response))"
   ],
   "outputs": [
    {
     "output_type": "stream",
     "name": "stderr",
     "text": [
      "100%|██████████| 5518/5518 [54:24<00:00,  1.69it/s]\n"
     ]
    }
   ],
   "metadata": {}
  },
  {
   "cell_type": "code",
   "execution_count": 109,
   "source": [
    "print(classification_report(y, y_pred))\n",
    "print(\"Accuracy: \", accuracy_score(y, y_pred)) \n",
    "print(\"F1-Score: \", f1_score(y, y_pred, average='macro')) \n",
    "print(f\"Mean response time: {np.mean(times)} +- {np.std(times)} sec.\")"
   ],
   "outputs": [
    {
     "output_type": "stream",
     "name": "stdout",
     "text": [
      "                          precision    recall  f1-score   support\n",
      "\n",
      "             alarm_query       0.95      0.86      0.91        94\n",
      "            alarm_remove       0.90      0.87      0.89        54\n",
      "               alarm_set       0.81      0.86      0.84        96\n",
      "       audio_volume_down       0.73      0.82      0.78        40\n",
      "       audio_volume_mute       0.84      0.74      0.78        76\n",
      "         audio_volume_up       0.89      0.77      0.82        73\n",
      "          calendar_query       0.64      0.41      0.50        95\n",
      "         calendar_remove       0.85      0.89      0.87       102\n",
      "            calendar_set       0.63      0.78      0.70        91\n",
      "          cooking_recipe       0.90      0.91      0.90       107\n",
      "        datetime_convert       0.72      1.00      0.84        47\n",
      "          datetime_query       0.73      0.72      0.72        92\n",
      "        email_addcontact       0.90      0.97      0.94        38\n",
      "             email_query       0.91      0.88      0.90        93\n",
      "      email_querycontact       0.87      0.77      0.82       105\n",
      "         email_sendemail       0.90      0.89      0.90        94\n",
      "          general_affirm       0.96      0.78      0.86        98\n",
      "     general_commandstop       0.96      0.94      0.95        94\n",
      "         general_confirm       0.92      0.99      0.95        84\n",
      "        general_dontcare       0.95      0.97      0.96       100\n",
      "         general_explain       0.95      0.91      0.93        99\n",
      "            general_joke       0.96      0.95      0.96        58\n",
      "          general_negate       0.92      0.84      0.88        93\n",
      "          general_praise       0.86      1.00      0.93        96\n",
      "          general_quirky       0.57      0.15      0.24       104\n",
      "          general_repeat       0.96      0.96      0.96       100\n",
      "            iot_cleaning       0.99      0.96      0.98        82\n",
      "              iot_coffee       0.98      0.99      0.98        98\n",
      "     iot_hue_lightchange       0.95      0.87      0.91       102\n",
      "        iot_hue_lightdim       0.77      0.86      0.81        56\n",
      "        iot_hue_lightoff       0.90      0.86      0.88        98\n",
      "         iot_hue_lighton       0.56      0.53      0.54        19\n",
      "         iot_hue_lightup       0.77      0.78      0.78        74\n",
      "            iot_wemo_off       0.92      0.91      0.91        53\n",
      "             iot_wemo_on       0.86      0.93      0.89        41\n",
      "       lists_createoradd       0.87      0.83      0.85        94\n",
      "             lists_query       0.86      0.87      0.86        99\n",
      "            lists_remove       0.96      0.84      0.90       108\n",
      "          music_likeness       0.93      0.88      0.91        93\n",
      "             music_query       0.90      0.85      0.88       100\n",
      "          music_settings       0.50      0.82      0.62        34\n",
      "              news_query       0.82      0.74      0.78        94\n",
      "                    null       0.00      0.00      0.00         0\n",
      "          play_audiobook       0.87      0.95      0.91        96\n",
      "               play_game       0.81      0.95      0.87       100\n",
      "              play_music       0.78      0.63      0.70        97\n",
      "           play_podcasts       0.96      0.88      0.92        93\n",
      "              play_radio       0.91      0.83      0.87        89\n",
      "             qa_currency       0.94      0.99      0.96        92\n",
      "           qa_definition       0.85      0.82      0.84        97\n",
      "              qa_factoid       0.71      0.65      0.68        85\n",
      "                qa_maths       0.86      0.93      0.90        75\n",
      "                qa_stock       0.98      0.93      0.96       104\n",
      "   recommendation_events       0.70      0.84      0.76        85\n",
      "recommendation_locations       0.71      0.92      0.80        84\n",
      "   recommendation_movies       0.85      0.90      0.88        63\n",
      "             social_post       0.93      0.70      0.80        98\n",
      "            social_query       0.75      0.80      0.77        93\n",
      "          takeaway_order       0.85      0.84      0.85       101\n",
      "          takeaway_query       0.89      0.78      0.83       103\n",
      "         transport_query       0.79      0.76      0.77       104\n",
      "          transport_taxi       0.99      0.96      0.98        84\n",
      "        transport_ticket       0.85      0.90      0.87       107\n",
      "       transport_traffic       0.92      0.89      0.91        95\n",
      "           weather_query       0.88      0.98      0.93       105\n",
      "\n",
      "                accuracy                           0.84      5518\n",
      "               macro avg       0.84      0.83      0.83      5518\n",
      "            weighted avg       0.86      0.84      0.85      5518\n",
      "\n",
      "Accuracy:  0.8426966292134831\n",
      "F1-Score:  0.8297288300452834\n",
      "Mean response time: 0.5906539198798345 +- 0.24153774243758097 sec.\n"
     ]
    },
    {
     "output_type": "stream",
     "name": "stderr",
     "text": [
      "/usr/local/var/pyenv/versions/3.8.1/lib/python3.8/site-packages/sklearn/metrics/_classification.py:1245: UndefinedMetricWarning: Recall and F-score are ill-defined and being set to 0.0 in labels with no true samples. Use `zero_division` parameter to control this behavior.\n",
      "  _warn_prf(average, modifier, msg_start, len(result))\n",
      "/usr/local/var/pyenv/versions/3.8.1/lib/python3.8/site-packages/sklearn/metrics/_classification.py:1245: UndefinedMetricWarning: Recall and F-score are ill-defined and being set to 0.0 in labels with no true samples. Use `zero_division` parameter to control this behavior.\n",
      "  _warn_prf(average, modifier, msg_start, len(result))\n",
      "/usr/local/var/pyenv/versions/3.8.1/lib/python3.8/site-packages/sklearn/metrics/_classification.py:1245: UndefinedMetricWarning: Recall and F-score are ill-defined and being set to 0.0 in labels with no true samples. Use `zero_division` parameter to control this behavior.\n",
      "  _warn_prf(average, modifier, msg_start, len(result))\n"
     ]
    }
   ],
   "metadata": {}
  }
 ],
 "metadata": {
  "orig_nbformat": 4,
  "language_info": {
   "name": "python",
   "version": "3.8.1",
   "mimetype": "text/x-python",
   "codemirror_mode": {
    "name": "ipython",
    "version": 3
   },
   "pygments_lexer": "ipython3",
   "nbconvert_exporter": "python",
   "file_extension": ".py"
  },
  "kernelspec": {
   "name": "python3",
   "display_name": "Python 3.8.1 64-bit ('3.8.1': pyenv)"
  },
  "interpreter": {
   "hash": "cbe6ceceef8f6565a4e690154dea3e73bc5df4b63ef43a4a30f91f6ff59f296f"
  }
 },
 "nbformat": 4,
 "nbformat_minor": 2
}