{
 "cells": [
  {
   "cell_type": "code",
   "execution_count": null,
   "source": [
    "pip install google-cloud-dialogflow"
   ],
   "outputs": [],
   "metadata": {}
  },
  {
   "cell_type": "code",
   "execution_count": 2,
   "source": [
    "import converters\n",
    "import analyzers\n",
    "import numpy as np\n",
    "from sklearn.metrics import classification_report, accuracy_score, f1_score\n",
    "\n",
    "small_test_path = 'data/hwu_small_test.csv'\n",
    "small_train_path = 'data/hwu_small_train.csv'\n",
    "large_test_path = 'data/hwu_large_test.csv'\n",
    "large_train_path = 'data/hwu_large_train.csv'\n",
    "\n",
    "# Get them from dialogflow web interface\n",
    "small_app_id = \"123\"\n",
    "large_app_id = \"123\"\n",
    "\n",
    "da = analyzers.DialogflowAnalyser(small_app_id)\n",
    "docs, X, y = converters.parse_data(small_test_path)\n",
    "dialogflow_results, times = da.get_annotations(X)"
   ],
   "outputs": [
    {
     "output_type": "stream",
     "name": "stderr",
     "text": [
      "100%|██████████| 1076/1076 [22:48<00:00,  1.27s/it]\n"
     ]
    }
   ],
   "metadata": {}
  },
  {
   "cell_type": "code",
   "execution_count": 4,
   "source": [
    "y_preds = [r.query_result.intent.display_name for r in dialogflow_results]\n",
    "\n",
    "print(classification_report(y, y_preds))\n",
    "print(\"Accuracy: \", accuracy_score(y, y_preds)) \n",
    "print(\"F1-Score: \", f1_score(y, y_preds, average='macro')) \n",
    "\n",
    "print(f\"Mean response time: {np.mean(times)} +- {np.std(times)} sec.\")"
   ],
   "outputs": [
    {
     "output_type": "stream",
     "name": "stdout",
     "text": [
      "                          precision    recall  f1-score   support\n",
      "\n",
      "                               0.00      0.00      0.00         0\n",
      "             alarm_query       0.73      0.84      0.78        19\n",
      "            alarm_remove       0.53      0.82      0.64        11\n",
      "               alarm_set       0.76      0.68      0.72        19\n",
      "       audio_volume_down       0.62      0.62      0.62         8\n",
      "       audio_volume_mute       0.69      0.60      0.64        15\n",
      "         audio_volume_up       0.83      0.77      0.80        13\n",
      "          calendar_query       0.46      0.32      0.37        19\n",
      "         calendar_remove       0.89      0.84      0.86        19\n",
      "            calendar_set       0.69      0.58      0.63        19\n",
      "          cooking_recipe       0.85      0.58      0.69        19\n",
      "        datetime_convert       0.55      0.75      0.63         8\n",
      "          datetime_query       0.64      0.37      0.47        19\n",
      "        email_addcontact       0.64      0.88      0.74         8\n",
      "             email_query       0.64      0.84      0.73        19\n",
      "      email_querycontact       0.60      0.47      0.53        19\n",
      "         email_sendemail       0.79      0.58      0.67        19\n",
      "          general_affirm       0.92      0.58      0.71        19\n",
      "     general_commandstop       0.75      0.79      0.77        19\n",
      "         general_confirm       0.85      0.89      0.87        19\n",
      "        general_dontcare       0.69      0.47      0.56        19\n",
      "         general_explain       0.93      0.74      0.82        19\n",
      "            general_joke       1.00      1.00      1.00        12\n",
      "          general_negate       0.78      0.74      0.76        19\n",
      "          general_praise       0.78      0.74      0.76        19\n",
      "          general_quirky       1.00      0.11      0.19        19\n",
      "          general_repeat       0.85      0.89      0.87        19\n",
      "            iot_cleaning       0.94      1.00      0.97        16\n",
      "              iot_coffee       0.89      0.89      0.89        19\n",
      "     iot_hue_lightchange       0.70      0.74      0.72        19\n",
      "        iot_hue_lightdim       0.90      0.75      0.82        12\n",
      "        iot_hue_lightoff       0.55      0.58      0.56        19\n",
      "         iot_hue_lighton       0.20      0.67      0.31         3\n",
      "         iot_hue_lightup       0.67      0.43      0.52        14\n",
      "            iot_wemo_off       0.40      0.44      0.42         9\n",
      "             iot_wemo_on       0.20      0.29      0.24         7\n",
      "       lists_createoradd       0.62      0.79      0.70        19\n",
      "             lists_query       0.71      0.63      0.67        19\n",
      "            lists_remove       0.84      0.84      0.84        19\n",
      "          music_likeness       0.44      0.44      0.44        18\n",
      "             music_query       0.54      0.37      0.44        19\n",
      "          music_settings       0.50      0.29      0.36         7\n",
      "              news_query       0.50      0.21      0.30        19\n",
      "          play_audiobook       0.87      0.68      0.76        19\n",
      "               play_game       0.54      0.68      0.60        19\n",
      "              play_music       0.40      0.21      0.28        19\n",
      "           play_podcasts       0.73      0.84      0.78        19\n",
      "              play_radio       0.77      0.53      0.62        19\n",
      "             qa_currency       1.00      0.89      0.94        19\n",
      "           qa_definition       0.88      0.37      0.52        19\n",
      "              qa_factoid       0.60      0.16      0.25        19\n",
      "                qa_maths       0.88      0.50      0.64        14\n",
      "                qa_stock       0.88      0.79      0.83        19\n",
      "   recommendation_events       0.85      0.58      0.69        19\n",
      "recommendation_locations       0.69      0.58      0.63        19\n",
      "   recommendation_movies       0.83      1.00      0.91        10\n",
      "             social_post       0.89      0.84      0.86        19\n",
      "            social_query       0.85      0.61      0.71        18\n",
      "          takeaway_order       0.52      0.74      0.61        19\n",
      "          takeaway_query       0.78      0.37      0.50        19\n",
      "         transport_query       0.81      0.68      0.74        19\n",
      "          transport_taxi       0.84      0.89      0.86        18\n",
      "        transport_ticket       0.84      0.84      0.84        19\n",
      "       transport_traffic       1.00      0.89      0.94        19\n",
      "           weather_query       0.91      0.53      0.67        19\n",
      "\n",
      "                accuracy                           0.64      1076\n",
      "               macro avg       0.71      0.63      0.65      1076\n",
      "            weighted avg       0.74      0.64      0.67      1076\n",
      "\n",
      "Accuracy:  0.6403345724907064\n",
      "F1-Score:  0.6498737014155843\n",
      "Mean response time: 0.27037008677273433 +- 0.045372201505154565 sec.\n"
     ]
    },
    {
     "output_type": "stream",
     "name": "stderr",
     "text": [
      "/usr/local/var/pyenv/versions/3.8.1/lib/python3.8/site-packages/sklearn/metrics/_classification.py:1245: UndefinedMetricWarning: Recall and F-score are ill-defined and being set to 0.0 in labels with no true samples. Use `zero_division` parameter to control this behavior.\n",
      "  _warn_prf(average, modifier, msg_start, len(result))\n",
      "/usr/local/var/pyenv/versions/3.8.1/lib/python3.8/site-packages/sklearn/metrics/_classification.py:1245: UndefinedMetricWarning: Recall and F-score are ill-defined and being set to 0.0 in labels with no true samples. Use `zero_division` parameter to control this behavior.\n",
      "  _warn_prf(average, modifier, msg_start, len(result))\n",
      "/usr/local/var/pyenv/versions/3.8.1/lib/python3.8/site-packages/sklearn/metrics/_classification.py:1245: UndefinedMetricWarning: Recall and F-score are ill-defined and being set to 0.0 in labels with no true samples. Use `zero_division` parameter to control this behavior.\n",
      "  _warn_prf(average, modifier, msg_start, len(result))\n"
     ]
    }
   ],
   "metadata": {}
  },
  {
   "cell_type": "code",
   "execution_count": 29,
   "source": [
    "dc = converters.DialogflowConverter()\n",
    "dc.import_corpus(large_train_path, 'HwuLargeTraining_DialogFlow', 'en')\n",
    "dc.export(\"HwuLargeTraining_DialogFlow.zip\")"
   ],
   "outputs": [],
   "metadata": {}
  },
  {
   "cell_type": "code",
   "execution_count": 32,
   "source": [
    "da = analyzers.DialogflowAnalyser(small_app_id)\n",
    "docs, X, y = converters.parse_data(large_test_path)\n",
    "dialogflow_results, times = da.get_annotations(X)"
   ],
   "outputs": [
    {
     "output_type": "stream",
     "name": "stderr",
     "text": [
      "  0%|          | 8/5518 [00:14<2:49:20,  1.84s/it]\n"
     ]
    },
    {
     "output_type": "error",
     "ename": "KeyboardInterrupt",
     "evalue": "",
     "traceback": [
      "\u001b[0;31m---------------------------------------------------------------------------\u001b[0m",
      "\u001b[0;31mKeyboardInterrupt\u001b[0m                         Traceback (most recent call last)",
      "\u001b[0;32m<ipython-input-32-fd32a2452fca>\u001b[0m in \u001b[0;36m<module>\u001b[0;34m\u001b[0m\n\u001b[1;32m      1\u001b[0m \u001b[0mda\u001b[0m \u001b[0;34m=\u001b[0m \u001b[0manalyzers\u001b[0m\u001b[0;34m.\u001b[0m\u001b[0mDialogflowAnalyser\u001b[0m\u001b[0;34m(\u001b[0m\u001b[0msmall_app_id\u001b[0m\u001b[0;34m,\u001b[0m \u001b[0;34m\"/mnt/245d363f-e0e4-4c4e-b228-df2ec070f242/projects/NLU-Evaluation-Scripts/agent3-1b1b2-033d842033d9.json\"\u001b[0m\u001b[0;34m)\u001b[0m\u001b[0;34m\u001b[0m\u001b[0;34m\u001b[0m\u001b[0m\n\u001b[1;32m      2\u001b[0m \u001b[0mdocs\u001b[0m\u001b[0;34m,\u001b[0m \u001b[0mX\u001b[0m\u001b[0;34m,\u001b[0m \u001b[0my\u001b[0m \u001b[0;34m=\u001b[0m \u001b[0mconverters\u001b[0m\u001b[0;34m.\u001b[0m\u001b[0mparse_data\u001b[0m\u001b[0;34m(\u001b[0m\u001b[0mlarge_test_path\u001b[0m\u001b[0;34m)\u001b[0m\u001b[0;34m\u001b[0m\u001b[0;34m\u001b[0m\u001b[0m\n\u001b[0;32m----> 3\u001b[0;31m \u001b[0mdialogflow_results\u001b[0m\u001b[0;34m,\u001b[0m \u001b[0mtimes\u001b[0m \u001b[0;34m=\u001b[0m \u001b[0mda\u001b[0m\u001b[0;34m.\u001b[0m\u001b[0mget_annotations\u001b[0m\u001b[0;34m(\u001b[0m\u001b[0mX\u001b[0m\u001b[0;34m)\u001b[0m\u001b[0;34m\u001b[0m\u001b[0;34m\u001b[0m\u001b[0m\n\u001b[0m",
      "\u001b[0;32m/mnt/245d363f-e0e4-4c4e-b228-df2ec070f242/projects/NLU-Evaluation-Scripts/v4/analyzers.py\u001b[0m in \u001b[0;36mget_annotations\u001b[0;34m(self, test_sentences, language_code)\u001b[0m\n\u001b[1;32m    134\u001b[0m         \u001b[0;32mfor\u001b[0m \u001b[0mtext\u001b[0m \u001b[0;32min\u001b[0m \u001b[0mtqdm\u001b[0m\u001b[0;34m.\u001b[0m\u001b[0mtqdm\u001b[0m\u001b[0;34m(\u001b[0m\u001b[0mtest_sentences\u001b[0m\u001b[0;34m)\u001b[0m\u001b[0;34m:\u001b[0m\u001b[0;34m\u001b[0m\u001b[0;34m\u001b[0m\u001b[0m\n\u001b[1;32m    135\u001b[0m             \u001b[0mself\u001b[0m\u001b[0;34m.\u001b[0m\u001b[0mquery_dialogflow\u001b[0m\u001b[0;34m(\u001b[0m\u001b[0mtext\u001b[0m\u001b[0;34m,\u001b[0m \u001b[0mlanguage_code\u001b[0m\u001b[0;34m,\u001b[0m \u001b[0msession_client\u001b[0m\u001b[0;34m,\u001b[0m \u001b[0msession\u001b[0m\u001b[0;34m,\u001b[0m \u001b[0mquery_times\u001b[0m\u001b[0;34m,\u001b[0m \u001b[0mresults\u001b[0m\u001b[0;34m)\u001b[0m\u001b[0;34m\u001b[0m\u001b[0;34m\u001b[0m\u001b[0m\n\u001b[0;32m--> 136\u001b[0;31m             \u001b[0mtime\u001b[0m\u001b[0;34m.\u001b[0m\u001b[0msleep\u001b[0m\u001b[0;34m(\u001b[0m\u001b[0;36m1\u001b[0m\u001b[0;34m)\u001b[0m\u001b[0;34m\u001b[0m\u001b[0;34m\u001b[0m\u001b[0m\n\u001b[0m\u001b[1;32m    137\u001b[0m         \u001b[0;32mreturn\u001b[0m \u001b[0mresults\u001b[0m\u001b[0;34m,\u001b[0m \u001b[0mquery_times\u001b[0m\u001b[0;34m\u001b[0m\u001b[0;34m\u001b[0m\u001b[0m\n\u001b[1;32m    138\u001b[0m \u001b[0;34m\u001b[0m\u001b[0m\n",
      "\u001b[0;31mKeyboardInterrupt\u001b[0m: "
     ]
    }
   ],
   "metadata": {}
  },
  {
   "cell_type": "code",
   "execution_count": 33,
   "source": [
    "y_preds = [r.query_result.intent.display_name for r in dialogflow_results]\n",
    "\n",
    "print(classification_report(y, y_preds))\n",
    "print(\"Accuracy: \", accuracy_score(y, y_preds)) \n",
    "print(\"F1-Score: \", f1_score(y, y_preds, average='macro')) \n",
    "\n",
    "print(f\"Mean response time: {np.mean(times)} +- {np.std(times)} sec.\")"
   ],
   "outputs": [
    {
     "output_type": "stream",
     "name": "stdout",
     "text": [
      "                          precision    recall  f1-score   support\n",
      "\n",
      "                               0.00      0.00      0.00         0\n",
      "             alarm_query       0.89      0.81      0.85        94\n",
      "            alarm_remove       0.76      0.81      0.79        54\n",
      "               alarm_set       0.77      0.77      0.77        96\n",
      "       audio_volume_down       0.74      0.72      0.73        40\n",
      "       audio_volume_mute       0.90      0.57      0.69        76\n",
      "         audio_volume_up       0.78      0.86      0.82        73\n",
      "          calendar_query       0.46      0.33      0.38        95\n",
      "         calendar_remove       0.76      0.78      0.77       102\n",
      "            calendar_set       0.62      0.71      0.67        91\n",
      "          cooking_recipe       0.83      0.79      0.81       107\n",
      "        datetime_convert       0.63      0.91      0.75        47\n",
      "          datetime_query       0.80      0.85      0.83        92\n",
      "        email_addcontact       0.84      0.97      0.90        38\n",
      "             email_query       0.74      0.80      0.77        93\n",
      "      email_querycontact       0.87      0.65      0.74       105\n",
      "         email_sendemail       0.82      0.74      0.78        94\n",
      "          general_affirm       0.91      0.76      0.83        98\n",
      "     general_commandstop       0.88      0.90      0.89        94\n",
      "         general_confirm       0.75      1.00      0.86        84\n",
      "        general_dontcare       0.82      0.90      0.86       100\n",
      "         general_explain       0.92      0.85      0.88        99\n",
      "            general_joke       0.95      0.95      0.95        58\n",
      "          general_negate       0.80      0.70      0.75        93\n",
      "          general_praise       0.75      0.90      0.82        96\n",
      "          general_quirky       0.37      0.07      0.11       104\n",
      "          general_repeat       0.92      0.90      0.91       100\n",
      "            iot_cleaning       0.99      0.89      0.94        82\n",
      "              iot_coffee       0.98      0.90      0.94        98\n",
      "     iot_hue_lightchange       0.82      0.78      0.80       102\n",
      "        iot_hue_lightdim       0.78      0.80      0.79        56\n",
      "        iot_hue_lightoff       0.89      0.89      0.89        98\n",
      "         iot_hue_lighton       0.43      0.79      0.56        19\n",
      "         iot_hue_lightup       0.75      0.68      0.71        74\n",
      "            iot_wemo_off       0.76      0.83      0.79        53\n",
      "             iot_wemo_on       0.80      0.78      0.79        41\n",
      "       lists_createoradd       0.73      0.91      0.81        94\n",
      "             lists_query       0.71      0.71      0.71        99\n",
      "            lists_remove       0.93      0.84      0.88       108\n",
      "          music_likeness       0.66      0.65      0.65        93\n",
      "             music_query       0.77      0.60      0.67       100\n",
      "          music_settings       0.50      0.76      0.60        34\n",
      "              news_query       0.83      0.55      0.66        94\n",
      "          play_audiobook       0.82      0.79      0.80        96\n",
      "               play_game       0.73      0.68      0.70       100\n",
      "              play_music       0.52      0.60      0.56        97\n",
      "           play_podcasts       0.96      0.88      0.92        93\n",
      "              play_radio       0.86      0.81      0.83        89\n",
      "             qa_currency       0.96      0.97      0.96        92\n",
      "           qa_definition       0.90      0.66      0.76        97\n",
      "              qa_factoid       0.62      0.18      0.28        85\n",
      "                qa_maths       0.92      0.79      0.85        75\n",
      "                qa_stock       0.96      0.88      0.91       104\n",
      "   recommendation_events       0.63      0.69      0.66        85\n",
      "recommendation_locations       0.69      0.71      0.70        84\n",
      "   recommendation_movies       0.88      0.84      0.86        63\n",
      "             social_post       0.84      0.73      0.78        98\n",
      "            social_query       0.73      0.75      0.74        93\n",
      "          takeaway_order       0.71      0.76      0.74       101\n",
      "          takeaway_query       0.76      0.60      0.67       103\n",
      "         transport_query       0.77      0.69      0.73       104\n",
      "          transport_taxi       0.86      0.93      0.89        84\n",
      "        transport_ticket       0.85      0.89      0.87       107\n",
      "       transport_traffic       0.98      0.86      0.92        95\n",
      "           weather_query       0.83      0.77      0.80       105\n",
      "\n",
      "                accuracy                           0.76      5518\n",
      "               macro avg       0.78      0.75      0.75      5518\n",
      "            weighted avg       0.80      0.76      0.77      5518\n",
      "\n",
      "Accuracy:  0.7562522653135194\n",
      "F1-Score:  0.7544256363906572\n",
      "Mean response time: 0.27305240879978293 +- 0.03399336885813796 sec.\n"
     ]
    },
    {
     "output_type": "stream",
     "name": "stderr",
     "text": [
      "/usr/local/var/pyenv/versions/3.8.1/lib/python3.8/site-packages/sklearn/metrics/_classification.py:1245: UndefinedMetricWarning: Recall and F-score are ill-defined and being set to 0.0 in labels with no true samples. Use `zero_division` parameter to control this behavior.\n",
      "  _warn_prf(average, modifier, msg_start, len(result))\n",
      "/usr/local/var/pyenv/versions/3.8.1/lib/python3.8/site-packages/sklearn/metrics/_classification.py:1245: UndefinedMetricWarning: Recall and F-score are ill-defined and being set to 0.0 in labels with no true samples. Use `zero_division` parameter to control this behavior.\n",
      "  _warn_prf(average, modifier, msg_start, len(result))\n",
      "/usr/local/var/pyenv/versions/3.8.1/lib/python3.8/site-packages/sklearn/metrics/_classification.py:1245: UndefinedMetricWarning: Recall and F-score are ill-defined and being set to 0.0 in labels with no true samples. Use `zero_division` parameter to control this behavior.\n",
      "  _warn_prf(average, modifier, msg_start, len(result))\n"
     ]
    }
   ],
   "metadata": {}
  }
 ],
 "metadata": {
  "orig_nbformat": 4,
  "language_info": {
   "name": "python",
   "version": "3.8.1",
   "mimetype": "text/x-python",
   "codemirror_mode": {
    "name": "ipython",
    "version": 3
   },
   "pygments_lexer": "ipython3",
   "nbconvert_exporter": "python",
   "file_extension": ".py"
  },
  "kernelspec": {
   "name": "python3",
   "display_name": "Python 3.8.1 64-bit ('3.8.1': pyenv)"
  },
  "interpreter": {
   "hash": "cbe6ceceef8f6565a4e690154dea3e73bc5df4b63ef43a4a30f91f6ff59f296f"
  }
 },
 "nbformat": 4,
 "nbformat_minor": 2
}