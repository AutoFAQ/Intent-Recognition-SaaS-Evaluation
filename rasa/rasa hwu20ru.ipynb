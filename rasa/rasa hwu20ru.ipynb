{
 "cells": [
  {
   "cell_type": "code",
   "execution_count": 7,
   "metadata": {},
   "outputs": [],
   "source": [
    "import pandas as pd\n",
    "import yaml\n",
    "import requests\n",
    "import time\n",
    "import numpy as np\n",
    "from sklearn.model_selection import train_test_split\n",
    "from sklearn.metrics import classification_report, accuracy_score, f1_score"
   ]
  },
  {
   "cell_type": "code",
   "execution_count": 2,
   "metadata": {},
   "outputs": [],
   "source": [
    "train_csv = '../data/russian/hwu-20-ru/train.csv'\n",
    "df = pd.read_csv(train_csv)"
   ]
  },
  {
   "cell_type": "code",
   "execution_count": 3,
   "metadata": {},
   "outputs": [
    {
     "name": "stdout",
     "output_type": "stream",
     "text": [
      "foo: |\n",
      "  - this is a\n",
      "  - block literal\n",
      "bar: >\n",
      "  this is a folded block\n"
     ]
    }
   ],
   "source": [
    "import ruamel.yaml\n",
    "\n",
    "folded = ruamel.yaml.scalarstring.FoldedScalarString\n",
    "literal = ruamel.yaml.scalarstring.LiteralScalarString\n",
    "\n",
    "yaml = ruamel.yaml.YAML()\n",
    "\n",
    "data = dict(\n",
    "    foo=literal('- this is a\\n- block literal\\n'), \n",
    "    bar=folded('this is a folded block\\n'),\n",
    ")\n",
    "\n",
    "yaml.dump(data, sys.stdout)"
   ]
  },
  {
   "cell_type": "code",
   "execution_count": 4,
   "metadata": {},
   "outputs": [],
   "source": [
    "# convert dataframe to rasa yaml format\n",
    "# then train model rasa train nlu\n",
    "rasa_yaml = {'version': '3.1', 'nlu': []}\n",
    "\n",
    "nlu = {}\n",
    "for index, row in df.iterrows():\n",
    "    if row['intent'] not in nlu:\n",
    "        nlu[row['intent']] = [f\"- {row['phrase']}\"]\n",
    "    else:\n",
    "        nlu[row['intent']].append(f\"- {row['phrase']}\")    \n",
    "\n",
    "for intent, phrases in nlu.items():    \n",
    "    rasa_yaml['nlu'].append({'intent': intent, 'examples': literal(\"\\n\".join(phrases) + \"\\n\")})\n",
    "\n",
    "with open('data/nlu.yml', 'w') as outfile:\n",
    "    yaml.dump(rasa_yaml, outfile)"
   ]
  },
  {
   "cell_type": "code",
   "execution_count": 5,
   "metadata": {},
   "outputs": [],
   "source": [
    "def parse_data(path):\n",
    "    df = pd.read_csv(path)\n",
    "    X = []\n",
    "    y = []\n",
    "    docs = {}\n",
    "    for _, row in df.iterrows():\n",
    "        X.append(row['phrase'])\n",
    "        y.append(row['intent'])           \n",
    "        if row['intent'] not in docs:\n",
    "            docs[row['intent']] = {'question': row['phrase'], 'answer': row['intent'], 'name': row['intent'], 'paraphrased_questions': []}\n",
    "        else:\n",
    "            docs[row['intent']]['paraphrased_questions'].append(row['phrase']) \n",
    "    return docs, X, y"
   ]
  },
  {
   "cell_type": "code",
   "execution_count": 6,
   "metadata": {},
   "outputs": [],
   "source": [
    "# run rasa server and get predictions rasa run --enable-api\n",
    "test_path = '../data/russian/hwu-20-ru/test.csv'\n",
    "docs_test, X_test, y_test = parse_data(test_path)\n",
    "\n",
    "y_pred = []\n",
    "times = []\n",
    "for row in X_test:\n",
    "    start = time.time()\n",
    "    r = requests.post('http://localhost:5005/model/parse', json={'text': row})\n",
    "    times.append(time.time() - start)\n",
    "    y_pred.append(r.json()['intent']['name'])"
   ]
  },
  {
   "cell_type": "code",
   "execution_count": 8,
   "metadata": {},
   "outputs": [
    {
     "name": "stdout",
     "output_type": "stream",
     "text": [
      "                       precision    recall  f1-score   support\n",
      "\n",
      "    audio_volume_down       1.00      1.00      1.00         5\n",
      "       calendar_query       0.50      0.40      0.44         5\n",
      "      calendar_remove       0.80      0.80      0.80         5\n",
      "         calendar_set       1.00      0.60      0.75         5\n",
      "     datetime_convert       0.83      1.00      0.91         5\n",
      "       general_affirm       1.00      1.00      1.00         5\n",
      "      general_confirm       1.00      1.00      1.00         5\n",
      "         general_joke       0.83      1.00      0.91         5\n",
      "       general_quirky       0.00      0.00      0.00         5\n",
      "       general_repeat       0.83      1.00      0.91         5\n",
      "           iot_coffee       1.00      0.80      0.89         5\n",
      "  iot_hue_lightchange       1.00      1.00      1.00         5\n",
      "     iot_hue_lightoff       1.00      1.00      1.00         5\n",
      "         iot_wemo_off       1.00      0.80      0.89         5\n",
      "         nlu_fallback       0.00      0.00      0.00         0\n",
      "            play_game       1.00      0.80      0.89         5\n",
      "           play_music       0.67      0.40      0.50         5\n",
      "        play_podcasts       0.57      0.80      0.67         5\n",
      "recommendation_events       0.67      0.40      0.50         5\n",
      "recommendation_movies       0.71      1.00      0.83         5\n",
      "       transport_taxi       1.00      1.00      1.00         5\n",
      "\n",
      "             accuracy                           0.79       100\n",
      "            macro avg       0.78      0.75      0.76       100\n",
      "         weighted avg       0.82      0.79      0.79       100\n",
      "\n",
      "Accuracy:  0.79\n",
      "F1-Score:  0.7565897065897066\n",
      "Mean response time: 0.011138579845428466 +- 0.004677507627553976 sec.\n"
     ]
    },
    {
     "name": "stderr",
     "output_type": "stream",
     "text": [
      "/home/idris/.pyenv/versions/3.7.11/lib/python3.7/site-packages/sklearn/metrics/_classification.py:1248: UndefinedMetricWarning: Precision and F-score are ill-defined and being set to 0.0 in labels with no predicted samples. Use `zero_division` parameter to control this behavior.\n",
      "  _warn_prf(average, modifier, msg_start, len(result))\n",
      "/home/idris/.pyenv/versions/3.7.11/lib/python3.7/site-packages/sklearn/metrics/_classification.py:1248: UndefinedMetricWarning: Recall and F-score are ill-defined and being set to 0.0 in labels with no true samples. Use `zero_division` parameter to control this behavior.\n",
      "  _warn_prf(average, modifier, msg_start, len(result))\n",
      "/home/idris/.pyenv/versions/3.7.11/lib/python3.7/site-packages/sklearn/metrics/_classification.py:1248: UndefinedMetricWarning: Precision and F-score are ill-defined and being set to 0.0 in labels with no predicted samples. Use `zero_division` parameter to control this behavior.\n",
      "  _warn_prf(average, modifier, msg_start, len(result))\n",
      "/home/idris/.pyenv/versions/3.7.11/lib/python3.7/site-packages/sklearn/metrics/_classification.py:1248: UndefinedMetricWarning: Recall and F-score are ill-defined and being set to 0.0 in labels with no true samples. Use `zero_division` parameter to control this behavior.\n",
      "  _warn_prf(average, modifier, msg_start, len(result))\n",
      "/home/idris/.pyenv/versions/3.7.11/lib/python3.7/site-packages/sklearn/metrics/_classification.py:1248: UndefinedMetricWarning: Precision and F-score are ill-defined and being set to 0.0 in labels with no predicted samples. Use `zero_division` parameter to control this behavior.\n",
      "  _warn_prf(average, modifier, msg_start, len(result))\n",
      "/home/idris/.pyenv/versions/3.7.11/lib/python3.7/site-packages/sklearn/metrics/_classification.py:1248: UndefinedMetricWarning: Recall and F-score are ill-defined and being set to 0.0 in labels with no true samples. Use `zero_division` parameter to control this behavior.\n",
      "  _warn_prf(average, modifier, msg_start, len(result))\n"
     ]
    }
   ],
   "source": [
    "print(classification_report(y_test, y_pred))\n",
    "print(\"Accuracy: \", accuracy_score(y_test, y_pred)) \n",
    "print(\"F1-Score: \", f1_score(y_test, y_pred, average='macro')) \n",
    "print(f\"Mean response time: {np.mean(times)} +- {np.std(times)} sec.\")"
   ]
  }
 ],
 "metadata": {
  "kernelspec": {
   "display_name": "Python 3.7.11 64-bit ('3.7.11')",
   "language": "python",
   "name": "python3"
  },
  "language_info": {
   "codemirror_mode": {
    "name": "ipython",
    "version": 3
   },
   "file_extension": ".py",
   "mimetype": "text/x-python",
   "name": "python",
   "nbconvert_exporter": "python",
   "pygments_lexer": "ipython3",
   "version": "3.7.11"
  },
  "orig_nbformat": 4,
  "vscode": {
   "interpreter": {
    "hash": "a0e9573c2a4781d18e808b4f1626e2719e2b6dd1cb8e6ed4e46676f7e37330f0"
   }
  }
 },
 "nbformat": 4,
 "nbformat_minor": 2
}
