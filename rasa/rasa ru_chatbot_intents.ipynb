{
 "cells": [
  {
   "cell_type": "code",
   "execution_count": null,
   "metadata": {},
   "outputs": [],
   "source": [
    "import pandas as pd\n",
    "import yaml\n",
    "import requests\n",
    "import time\n",
    "import numpy as np\n",
    "from sklearn.model_selection import train_test_split\n",
    "from sklearn.metrics import classification_report, accuracy_score, f1_score"
   ]
  },
  {
   "cell_type": "code",
   "execution_count": null,
   "metadata": {},
   "outputs": [],
   "source": [
    "train_csv = '../data/russian/chatbot-intents/train-chatbot.csv'\n",
    "df = pd.read_csv(train_csv)"
   ]
  },
  {
   "cell_type": "code",
   "execution_count": null,
   "metadata": {},
   "outputs": [],
   "source": [
    "import ruamel.yaml\n",
    "\n",
    "folded = ruamel.yaml.scalarstring.FoldedScalarString\n",
    "literal = ruamel.yaml.scalarstring.LiteralScalarString\n",
    "\n",
    "yaml = ruamel.yaml.YAML()\n",
    "\n",
    "data = dict(\n",
    "    foo=literal('- this is a\\n- block literal\\n'), \n",
    "    bar=folded('this is a folded block\\n'),\n",
    ")\n",
    "\n",
    "yaml.dump(data, sys.stdout)"
   ]
  },
  {
   "cell_type": "code",
   "execution_count": null,
   "metadata": {},
   "outputs": [],
   "source": [
    "# convert dataframe to rasa yaml format\n",
    "# then train model rasa train nlu\n",
    "rasa_yaml = {'version': '3.1', 'nlu': []}\n",
    "\n",
    "nlu = {}\n",
    "for index, row in df.iterrows():\n",
    "    if row['intent'] not in nlu:\n",
    "        nlu[row['intent']] = [f\"- {row['phrase']}\"]\n",
    "    else:\n",
    "        nlu[row['intent']].append(f\"- {row['phrase']}\")    \n",
    "\n",
    "for intent, phrases in nlu.items():    \n",
    "    rasa_yaml['nlu'].append({'intent': intent, 'examples': literal(\"\\n\".join(phrases) + \"\\n\")})\n",
    "\n",
    "with open('data/nlu.yml', 'w') as outfile:\n",
    "    yaml.dump(rasa_yaml, outfile)"
   ]
  },
  {
   "cell_type": "code",
   "execution_count": null,
   "metadata": {},
   "outputs": [],
   "source": [
    "def parse_data(path):\n",
    "    df = pd.read_csv(path)\n",
    "    X = []\n",
    "    y = []\n",
    "    docs = {}\n",
    "    for _, row in df.iterrows():\n",
    "        X.append(row['phrase'])\n",
    "        y.append(row['intent'])           \n",
    "        if row['intent'] not in docs:\n",
    "            docs[row['intent']] = {'question': row['phrase'], 'answer': row['intent'], 'name': row['intent'], 'paraphrased_questions': []}\n",
    "        else:\n",
    "            docs[row['intent']]['paraphrased_questions'].append(row['phrase']) \n",
    "    return docs, X, y"
   ]
  },
  {
   "cell_type": "code",
   "execution_count": null,
   "metadata": {},
   "outputs": [],
   "source": [
    "# run rasa server and get predictions rasa run --enable-api\n",
    "test_path = '../data/russian/chatbot-intents/test-chatbot.csv'\n",
    "docs_test, X_test, y_test = parse_data(test_path)\n",
    "\n",
    "y_pred = []\n",
    "times = []\n",
    "for row in X_test:\n",
    "    start = time.time()\n",
    "    r = requests.post('http://localhost:5005/model/parse', json={'text': row})\n",
    "    times.append(time.time() - start)\n",
    "    y_pred.append(r.json()['intent']['name'])"
   ]
  },
  {
   "cell_type": "code",
   "execution_count": null,
   "metadata": {},
   "outputs": [],
   "source": [
    "print(classification_report(y_test, y_pred))\n",
    "print(\"Accuracy: \", accuracy_score(y_test, y_pred)) \n",
    "print(\"F1-Score: \", f1_score(y_test, y_pred, average='macro')) \n",
    "print(f\"Mean response time: {np.mean(times)} +- {np.std(times)} sec.\")"
   ]
  }
 ],
 "metadata": {
  "kernelspec": {
   "display_name": "Python 3.7.11 64-bit ('3.7.11')",
   "language": "python",
   "name": "python3"
  },
  "language_info": {
   "codemirror_mode": {
    "name": "ipython",
    "version": 3
   },
   "file_extension": ".py",
   "mimetype": "text/x-python",
   "name": "python",
   "nbconvert_exporter": "python",
   "pygments_lexer": "ipython3",
   "version": "3.7.11"
  },
  "orig_nbformat": 4,
  "vscode": {
   "interpreter": {
    "hash": "a0e9573c2a4781d18e808b4f1626e2719e2b6dd1cb8e6ed4e46676f7e37330f0"
   }
  }
 },
 "nbformat": 4,
 "nbformat_minor": 2
}
